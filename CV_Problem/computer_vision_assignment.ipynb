{
  "nbformat": 4,
  "nbformat_minor": 0,
  "metadata": {
    "colab": {
      "name": "computer vision assignment.ipynb",
      "version": "0.3.2",
      "provenance": [],
      "collapsed_sections": [],
      "include_colab_link": true
    },
    "kernelspec": {
      "name": "python3",
      "display_name": "Python 3"
    }
  },
  "cells": [
    {
      "cell_type": "markdown",
      "metadata": {
        "id": "view-in-github",
        "colab_type": "text"
      },
      "source": [
        "<a href=\"https://colab.research.google.com/github/rajatdeveloper/MIDASS-IIITD-Summer-Internship-Task/blob/master/CV_Problem/computer_vision_assignment.ipynb\" target=\"_parent\"><img src=\"https://colab.research.google.com/assets/colab-badge.svg\" alt=\"Open In Colab\"/></a>"
      ]
    },
    {
      "metadata": {
        "id": "irIFtg4xP7io",
        "colab_type": "code",
        "colab": {
          "base_uri": "https://localhost:8080/",
          "height": 124
        },
        "outputId": "b13b269a-0152-40cc-82be-02afeae96e88"
      },
      "cell_type": "code",
      "source": [
        "# CONNECTING THE NOTEBOOK TO THE GOOGLE DRIVE\n",
        "from google.colab import drive\n",
        "drive.mount('/content/gdrive')\n"
      ],
      "execution_count": 1,
      "outputs": [
        {
          "output_type": "stream",
          "text": [
            "Go to this URL in a browser: https://accounts.google.com/o/oauth2/auth?client_id=947318989803-6bn6qk8qdgf4n4g3pfee6491hc0brc4i.apps.googleusercontent.com&redirect_uri=urn%3Aietf%3Awg%3Aoauth%3A2.0%3Aoob&scope=email%20https%3A%2F%2Fwww.googleapis.com%2Fauth%2Fdocs.test%20https%3A%2F%2Fwww.googleapis.com%2Fauth%2Fdrive%20https%3A%2F%2Fwww.googleapis.com%2Fauth%2Fdrive.photos.readonly%20https%3A%2F%2Fwww.googleapis.com%2Fauth%2Fpeopleapi.readonly&response_type=code\n",
            "\n",
            "Enter your authorization code:\n",
            "··········\n",
            "Mounted at /content/gdrive\n"
          ],
          "name": "stdout"
        }
      ]
    },
    {
      "metadata": {
        "id": "rSaEZeg85_kE",
        "colab_type": "code",
        "colab": {}
      },
      "cell_type": "code",
      "source": [
        "# IMPORT GDRIVE\n",
        "from google.colab import drive"
      ],
      "execution_count": 0,
      "outputs": []
    },
    {
      "metadata": {
        "id": "aYR_8l28QEGX",
        "colab_type": "code",
        "colab": {}
      },
      "cell_type": "code",
      "source": [
        "#PREPROCESSING LIBRARIES\n",
        "%matplotlib inline \n",
        "import csv                \n",
        "import pickle\n",
        "import numpy as np\n",
        "import matplotlib.pyplot as plt\n"
      ],
      "execution_count": 0,
      "outputs": []
    },
    {
      "metadata": {
        "id": "NG7EVNA2nwxY",
        "colab_type": "code",
        "outputId": "8510f688-c5cf-4470-c3a6-323197a23a8b",
        "colab": {
          "base_uri": "https://localhost:8080/",
          "height": 69
        }
      },
      "cell_type": "code",
      "source": [
        "#IMPORT IMAGES FROM PICKLE FILE\n",
        "Train_Images=[]\n",
        "with open('/content/gdrive/My Drive/Colab Notebooks/IIIT Delhi/Vision_task_dataset_public/train_image.pkl', 'rb') as files:\n",
        "      Train_Images=pickle.load(files)\n",
        "\n",
        "\n",
        "# IMPORT LABELS FROM PICKLE FILE    \n",
        "Train_Labels=[]\n",
        "with open('/content/gdrive/My Drive/Colab Notebooks/IIIT Delhi/Vision_task_dataset_public/train_label.pkl', 'rb') as files:\n",
        "    Train_Labels = pickle.load(files)\n",
        " \n",
        "  \n",
        "#CHECK THE DATA SIZE AND DIMENSIONS\n",
        "Image = len(Train_Images)   # no images in train set\n",
        "print(Image)   \n",
        "print(len(Train_Labels))    # no of labels\n",
        "print(len(Train_Images[0])) # heightXWidth  \n"
      ],
      "execution_count": 9,
      "outputs": [
        {
          "output_type": "stream",
          "text": [
            "8000\n",
            "8000\n",
            "784\n"
          ],
          "name": "stdout"
        }
      ]
    },
    {
      "metadata": {
        "id": "NyxhIPJJLmgN",
        "colab_type": "code",
        "colab": {
          "base_uri": "https://localhost:8080/",
          "height": 34
        },
        "outputId": "e414f7e5-90d7-4cf3-e587-99cae42cca44"
      },
      "cell_type": "code",
      "source": [
        "#NO OF ROW AND COLUMNS AS 28x28=784\n",
        "nRow = 28\n",
        "nCol = 28\n",
        "TotalBytes = Image*nRow*nCol*1  #since each pixel data is 1 byte\n",
        "print(TotalBytes)\n"
      ],
      "execution_count": 11,
      "outputs": [
        {
          "output_type": "stream",
          "text": [
            "6272000\n"
          ],
          "name": "stdout"
        }
      ]
    },
    {
      "metadata": {
        "id": "p38TqwTCC47b",
        "colab_type": "code",
        "outputId": "4cda0641-3b63-48c5-d449-6206faf2d54d",
        "colab": {
          "base_uri": "https://localhost:8080/",
          "height": 34
        }
      },
      "cell_type": "code",
      "source": [
        "# FORM THE NUMPY ARRAY FROM THE LIST OF TRIANING IMAGES\n",
        "Train_Images = np.array(Train_Images)/255\n",
        "Image_array= Train_Images.reshape(Image,nRow, nCol)\n",
        "Image_array= np.array(Image_array)\n",
        "print(Image_array.shape)"
      ],
      "execution_count": 12,
      "outputs": [
        {
          "output_type": "stream",
          "text": [
            "(8000, 28, 28)\n"
          ],
          "name": "stdout"
        }
      ]
    },
    {
      "metadata": {
        "id": "yCgkJAFQF5B4",
        "colab_type": "code",
        "outputId": "3e4e1579-f573-4034-d44d-bbcd6f76e486",
        "colab": {
          "base_uri": "https://localhost:8080/",
          "height": 52
        }
      },
      "cell_type": "code",
      "source": [
        "# FORM THE NUMPY ARRAY FROM THE LIST OF TRIANING LABELS\n",
        "Labels_Array = np.array(Train_Labels)\n",
        "print(Labels_Array)\n",
        "print(len(Labels_Array))"
      ],
      "execution_count": 13,
      "outputs": [
        {
          "output_type": "stream",
          "text": [
            "[0 0 0 ... 6 6 6]\n",
            "8000\n"
          ],
          "name": "stdout"
        }
      ]
    },
    {
      "metadata": {
        "id": "Yo4BJYwKX3-W",
        "colab_type": "code",
        "outputId": "8679b2dc-a0ab-4245-b9d7-7f53b53c9aa4",
        "colab": {
          "base_uri": "https://localhost:8080/",
          "height": 286
        }
      },
      "cell_type": "code",
      "source": [
        "#VISUALIZATION OF THE DATASET\n",
        "\n",
        "A = Image_array[1000]\n",
        "plt.imshow(A)"
      ],
      "execution_count": 14,
      "outputs": [
        {
          "output_type": "execute_result",
          "data": {
            "text/plain": [
              "<matplotlib.image.AxesImage at 0x7fa769b4c0f0>"
            ]
          },
          "metadata": {
            "tags": []
          },
          "execution_count": 14
        },
        {
          "output_type": "display_data",
          "data": {
            "image/png": "[encoded data removed]",
            "text/plain": [
              "<Figure size 432x288 with 1 Axes>"
            ]
          },
          "metadata": {
            "tags": []
          }
        }
      ]
    },
    {
      "metadata": {
        "id": "e2wcUIN9Mw0D",
        "colab_type": "code",
        "outputId": "5a8ae64a-8d22-4e40-cded-fd3ad1e93c51",
        "colab": {
          "base_uri": "https://localhost:8080/",
          "height": 52
        }
      },
      "cell_type": "code",
      "source": [
        "#TEST SET IMPORT\n",
        "TestSet=[]\n",
        "with open('/content/gdrive/My Drive/Colab Notebooks/IIIT Delhi/Vision_task_dataset_public/test_image.pkl', 'rb') as files:\n",
        "      TestSet=pickle.load(files)\n",
        "print(len(TestSet))   # no images in test set    \n",
        "print(len(TestSet[0]))\n",
        "\n",
        "#CONVERTING THE LIST TO NUMPY ARRAY AND RESIZING\n",
        "TestSet = np.array(TestSet)/255\n",
        "TestImages = TestSet.reshape(2000, nRow, nCol)\n",
        "TestImages = np.array(TestImages)"
      ],
      "execution_count": 16,
      "outputs": [
        {
          "output_type": "stream",
          "text": [
            "2000\n",
            "784\n"
          ],
          "name": "stdout"
        }
      ]
    },
    {
      "metadata": {
        "id": "-EOqSixpW6S9",
        "colab_type": "text"
      },
      "cell_type": "markdown",
      "source": [
        "#Machine Learning Model"
      ]
    },
    {
      "metadata": {
        "id": "SknxyQhHPfSu",
        "colab_type": "code",
        "colab": {}
      },
      "cell_type": "code",
      "source": [
        "#TRAIN AND VALIDATION SPLIT\n",
        "\n",
        "from sklearn.model_selection import train_test_split\n",
        "XTrain, XValid, YTrain, YValid = train_test_split(Train_Images,Labels_Array, test_size=0.20, random_state=4)\n"
      ],
      "execution_count": 0,
      "outputs": []
    },
    {
      "metadata": {
        "id": "ErQvyGdARTGJ",
        "colab_type": "code",
        "outputId": "77da8b6f-58ce-4a74-c525-970217bd37f2",
        "colab": {
          "base_uri": "https://localhost:8080/",
          "height": 34
        }
      },
      "cell_type": "code",
      "source": [
        "# RANDOM FOREST CLASSIFICATION\n",
        "from sklearn.ensemble import RandomForestClassifier\n",
        "Model = RandomForestClassifier(n_estimators = 10, random_state = 0)\n",
        "Model.fit(XTrain, YTrain) \n",
        "\n",
        "# MAKING PREDICTIONS IN VALIDATION SET\n",
        "from sklearn import metrics\n",
        "YPred = Model.predict(XValid) \n",
        "print(metrics.accuracy_score(YValid, YPred))\n"
      ],
      "execution_count": 19,
      "outputs": [
        {
          "output_type": "stream",
          "text": [
            "0.8025\n"
          ],
          "name": "stdout"
        }
      ]
    },
    {
      "metadata": {
        "id": "E6ouB-8SYYAc",
        "colab_type": "text"
      },
      "cell_type": "markdown",
      "source": [
        "#  Building the training model  # CNN"
      ]
    },
    {
      "metadata": {
        "id": "HHs_aCPdS9mb",
        "colab_type": "code",
        "colab": {
          "base_uri": "https://localhost:8080/",
          "height": 34
        },
        "outputId": "4f1e49f6-440d-42e0-98a5-7b855fd9c581"
      },
      "cell_type": "code",
      "source": [
        "#IMPORT KERAS LIBRARIES FOR TRAINING\n",
        "import keras\n",
        "from keras.models import Sequential\n",
        "from keras.layers import Conv2D, MaxPooling2D\n",
        "from keras.layers import Dense, Dropout, Flatten"
      ],
      "execution_count": 20,
      "outputs": [
        {
          "output_type": "stream",
          "text": [
            "Using TensorFlow backend.\n"
          ],
          "name": "stderr"
        }
      ]
    },
    {
      "metadata": {
        "id": "PTB6G8lQYnjF",
        "colab_type": "code",
        "colab": {}
      },
      "cell_type": "code",
      "source": [
        "#BATCH SIZE AND EPOCHS\n",
        "BatchSize = 200\n",
        "Epochs = 20\n",
        "NumClasses = 4"
      ],
      "execution_count": 0,
      "outputs": []
    },
    {
      "metadata": {
        "id": "px6aYDUjMHy-",
        "colab_type": "code",
        "outputId": "1f5713a6-75e4-4f8c-a107-6634f30ddb41",
        "colab": {
          "base_uri": "https://localhost:8080/",
          "height": 139
        }
      },
      "cell_type": "code",
      "source": [
        "#RESIZE THE LABEL SET\n",
        "Labels_Array = Labels_Array.reshape(len(Train_Labels),1)\n",
        "\n",
        "\n",
        "#CONVERT LABEL ARRAY TO BINARY MATRIX OF CLASSES\n",
        "from sklearn.preprocessing import MultiLabelBinarizer\n",
        "Binerizer = MultiLabelBinarizer()\n",
        "Labels_Array=Binerizer.fit_transform(Labels_Array)\n",
        "print(Labels_Array)"
      ],
      "execution_count": 22,
      "outputs": [
        {
          "output_type": "stream",
          "text": [
            "[[1 0 0 0]\n",
            " [1 0 0 0]\n",
            " [1 0 0 0]\n",
            " ...\n",
            " [0 0 0 1]\n",
            " [0 0 0 1]\n",
            " [0 0 0 1]]\n"
          ],
          "name": "stdout"
        }
      ]
    },
    {
      "metadata": {
        "id": "tvLfgK7gYoEC",
        "colab_type": "code",
        "outputId": "f89c6f16-4360-4905-f50b-8cfae2eed846",
        "colab": {
          "base_uri": "https://localhost:8080/",
          "height": 52
        }
      },
      "cell_type": "code",
      "source": [
        "#VERIFY THE DIMESIONS\n",
        "XTrain = Image_array\n",
        "YTrain = Labels_Array\n",
        "print(XTrain.shape)\n",
        "print(YTrain.shape)"
      ],
      "execution_count": 23,
      "outputs": [
        {
          "output_type": "stream",
          "text": [
            "(8000, 28, 28)\n",
            "(8000, 4)\n"
          ],
          "name": "stdout"
        }
      ]
    },
    {
      "metadata": {
        "id": "ReQP0HC8GOVJ",
        "colab_type": "code",
        "colab": {}
      },
      "cell_type": "code",
      "source": [
        "XTest = TestImages"
      ],
      "execution_count": 0,
      "outputs": []
    },
    {
      "metadata": {
        "id": "51x7WB86Yy4l",
        "colab_type": "code",
        "colab": {}
      },
      "cell_type": "code",
      "source": [
        "XTrain = XTrain.reshape(8000,28,28,1)\n"
      ],
      "execution_count": 0,
      "outputs": []
    },
    {
      "metadata": {
        "id": "mz2hTPoyGS6U",
        "colab_type": "code",
        "colab": {}
      },
      "cell_type": "code",
      "source": [
        "XTest = XTest.reshape(2000,28,28,1)"
      ],
      "execution_count": 0,
      "outputs": []
    },
    {
      "metadata": {
        "id": "zBG6jr7IcnE0",
        "colab_type": "code",
        "outputId": "173e58c2-416d-4b70-c323-7dadd81bd1d7",
        "colab": {
          "base_uri": "https://localhost:8080/",
          "height": 69
        }
      },
      "cell_type": "code",
      "source": [
        "#VERIFY THE IMAGES DIMENSIONS\n",
        "print('X Train shape:', XTrain.shape)\n",
        "print(XTrain.shape[0], 'Train Samples')\n",
        "print('Y Train: ', YTrain.shape)\n"
      ],
      "execution_count": 27,
      "outputs": [
        {
          "output_type": "stream",
          "text": [
            "X Train shape: (8000, 28, 28, 1)\n",
            "8000 Train Samples\n",
            "Y Train:  (8000, 4)\n"
          ],
          "name": "stdout"
        }
      ]
    },
    {
      "metadata": {
        "id": "vJgFRvfKGkD-",
        "colab_type": "code",
        "outputId": "0d886698-cd16-43b3-de6d-f7111858ed13",
        "colab": {
          "base_uri": "https://localhost:8080/",
          "height": 52
        }
      },
      "cell_type": "code",
      "source": [
        "#VERIFY THE TEST DIMENSIONS\n",
        "print('X Test Shape:', XTest.shape)\n",
        "print(XTest.shape[0], 'Test Samples')"
      ],
      "execution_count": 28,
      "outputs": [
        {
          "output_type": "stream",
          "text": [
            "X Test Shape: (2000, 28, 28, 1)\n",
            "2000 Test Samples\n"
          ],
          "name": "stdout"
        }
      ]
    },
    {
      "metadata": {
        "id": "RzByYGWz-Aco",
        "colab_type": "text"
      },
      "cell_type": "markdown",
      "source": [
        "#CONVOLUTIONAL NEURAL NETWORK \n",
        "   TRAINING THE DATASET\n",
        "\n",
        "```\n",
        "\n",
        "```\n",
        "\n"
      ]
    },
    {
      "metadata": {
        "id": "SU5yXaGgY45L",
        "colab_type": "code",
        "colab": {}
      },
      "cell_type": "code",
      "source": [
        "Model = Sequential()\n"
      ],
      "execution_count": 0,
      "outputs": []
    },
    {
      "metadata": {
        "id": "0gFiRn56go8L",
        "colab_type": "code",
        "colab": {
          "base_uri": "https://localhost:8080/",
          "height": 89
        },
        "outputId": "30c5bb20-2318-4618-a61e-8ced106fb5cd"
      },
      "cell_type": "code",
      "source": [
        "#CONVOLUTION MODEL BUILT\n",
        "\n",
        "# STEP 1 CONVOLUTION\n",
        "Model.add(Conv2D(32, (3, 3), input_shape = (28, 28, 1), activation = 'relu'))\n",
        "\n",
        "# STEP 2 POOLING\n",
        "Model.add(MaxPooling2D(pool_size = (2, 2)))\n",
        "\n",
        "# SECOND LAYER ADDED\n",
        "Model.add(Conv2D(64, (3, 3), activation = 'relu'))\n",
        "Model.add(MaxPooling2D(pool_size = (2, 2)))\n",
        "\n",
        "# NEXT LAYER ADDED\n",
        "Model.add(Conv2D(64, (3, 3), activation = 'relu'))\n",
        "Model.add(MaxPooling2D(pool_size = (2, 2)))\n",
        "\n",
        "# STEP 3 FLATTENING\n",
        "Model.add(Flatten())\n",
        "\n",
        "# SSTEP 4 FULL CONNECTION\n",
        "Model.add(Dense(units = 64, activation = 'relu'))\n",
        "Model.add(Dense(units = 4, activation = 'softmax'))\n"
      ],
      "execution_count": 30,
      "outputs": [
        {
          "output_type": "stream",
          "text": [
            "WARNING:tensorflow:From /usr/local/lib/python3.6/dist-packages/tensorflow/python/framework/op_def_library.py:263: colocate_with (from tensorflow.python.framework.ops) is deprecated and will be removed in a future version.\n",
            "Instructions for updating:\n",
            "Colocations handled automatically by placer.\n"
          ],
          "name": "stdout"
        }
      ]
    },
    {
      "metadata": {
        "id": "fghhaDs_Y42o",
        "colab_type": "code",
        "colab": {}
      },
      "cell_type": "code",
      "source": [
        "# MODEL COMPILATION\n",
        "Model.compile(loss=keras.losses.categorical_crossentropy,\n",
        "              optimizer=keras.optimizers.Adadelta(),\n",
        "              metrics=['accuracy'])"
      ],
      "execution_count": 0,
      "outputs": []
    },
    {
      "metadata": {
        "id": "O81NvEjVZDox",
        "colab_type": "code",
        "colab": {
          "base_uri": "https://localhost:8080/",
          "height": 819
        },
        "outputId": "f4b29673-90a7-4445-e138-3455652afe78"
      },
      "cell_type": "code",
      "source": [
        "# FIT AND TRAIN\n",
        "Model.fit(x = XTrain, y = YTrain, \n",
        "          validation_split=0.1, \n",
        "          batch_size = BatchSize, \n",
        "          verbose=2, \n",
        "          epochs=Epochs,\n",
        "          shuffle = True )\n",
        "\n"
      ],
      "execution_count": 32,
      "outputs": [
        {
          "output_type": "stream",
          "text": [
            "WARNING:tensorflow:From /usr/local/lib/python3.6/dist-packages/tensorflow/python/ops/math_ops.py:3066: to_int32 (from tensorflow.python.ops.math_ops) is deprecated and will be removed in a future version.\n",
            "Instructions for updating:\n",
            "Use tf.cast instead.\n",
            "Train on 7200 samples, validate on 800 samples\n",
            "Epoch 1/20\n",
            " - 8s - loss: 1.0801 - acc: 0.5500 - val_loss: 1.6130 - val_acc: 0.0037\n",
            "Epoch 2/20\n",
            " - 8s - loss: 0.7375 - acc: 0.7146 - val_loss: 1.2272 - val_acc: 0.0550\n",
            "Epoch 3/20\n",
            " - 8s - loss: 0.6562 - acc: 0.7412 - val_loss: 1.7300 - val_acc: 0.0112\n",
            "Epoch 4/20\n",
            " - 8s - loss: 0.6476 - acc: 0.7426 - val_loss: 1.3403 - val_acc: 0.1113\n",
            "Epoch 5/20\n",
            " - 8s - loss: 0.6073 - acc: 0.7582 - val_loss: 1.3894 - val_acc: 0.0713\n",
            "Epoch 6/20\n",
            " - 8s - loss: 0.5706 - acc: 0.7714 - val_loss: 1.3623 - val_acc: 0.2762\n",
            "Epoch 7/20\n",
            " - 8s - loss: 0.5433 - acc: 0.7925 - val_loss: 1.1462 - val_acc: 0.4450\n",
            "Epoch 8/20\n",
            " - 8s - loss: 0.5095 - acc: 0.8035 - val_loss: 0.9757 - val_acc: 0.5350\n",
            "Epoch 9/20\n",
            " - 8s - loss: 0.4808 - acc: 0.8186 - val_loss: 1.4314 - val_acc: 0.3375\n",
            "Epoch 10/20\n",
            " - 8s - loss: 0.4619 - acc: 0.8240 - val_loss: 0.6310 - val_acc: 0.6813\n",
            "Epoch 11/20\n",
            " - 8s - loss: 0.4467 - acc: 0.8299 - val_loss: 0.9919 - val_acc: 0.5400\n",
            "Epoch 12/20\n",
            " - 8s - loss: 0.4268 - acc: 0.8385 - val_loss: 0.7687 - val_acc: 0.6300\n",
            "Epoch 13/20\n",
            " - 8s - loss: 0.4151 - acc: 0.8367 - val_loss: 0.4629 - val_acc: 0.7888\n",
            "Epoch 14/20\n",
            " - 8s - loss: 0.4020 - acc: 0.8460 - val_loss: 1.5133 - val_acc: 0.3175\n",
            "Epoch 15/20\n",
            " - 8s - loss: 0.3881 - acc: 0.8514 - val_loss: 0.5969 - val_acc: 0.7313\n",
            "Epoch 16/20\n",
            " - 8s - loss: 0.3744 - acc: 0.8564 - val_loss: 1.1559 - val_acc: 0.4775\n",
            "Epoch 17/20\n",
            " - 8s - loss: 0.3643 - acc: 0.8631 - val_loss: 1.3952 - val_acc: 0.4237\n",
            "Epoch 18/20\n",
            " - 8s - loss: 0.3576 - acc: 0.8654 - val_loss: 1.8447 - val_acc: 0.2800\n",
            "Epoch 19/20\n",
            " - 8s - loss: 0.3468 - acc: 0.8696 - val_loss: 1.7063 - val_acc: 0.3225\n",
            "Epoch 20/20\n",
            " - 8s - loss: 0.3459 - acc: 0.8664 - val_loss: 1.1539 - val_acc: 0.4787\n"
          ],
          "name": "stdout"
        },
        {
          "output_type": "execute_result",
          "data": {
            "text/plain": [
              "<keras.callbacks.History at 0x7fa746bfa400>"
            ]
          },
          "metadata": {
            "tags": []
          },
          "execution_count": 32
        }
      ]
    },
    {
      "metadata": {
        "id": "zSmFeREffRzs",
        "colab_type": "code",
        "outputId": "6fdab074-48e3-413c-b2d4-6b7f1a67f5d8",
        "colab": {
          "base_uri": "https://localhost:8080/",
          "height": 139
        }
      },
      "cell_type": "code",
      "source": [
        "#MAKING PREDICTIONS \n",
        "Predictions = Model.predict(XTest)\n",
        "print(Predictions)"
      ],
      "execution_count": 33,
      "outputs": [
        {
          "output_type": "stream",
          "text": [
            "[[9.6395087e-01 5.4563349e-04 8.4486685e-04 3.4658678e-02]\n",
            " [6.2244171e-01 1.6079558e-02 1.6844763e-01 1.9303107e-01]\n",
            " [9.6858144e-01 2.9156455e-03 2.0999846e-03 2.6402885e-02]\n",
            " ...\n",
            " [2.6483357e-01 4.1245531e-02 2.7689135e-01 4.1702956e-01]\n",
            " [1.8496381e-03 1.5382666e-02 2.9503525e-04 9.8247266e-01]\n",
            " [1.1310236e-03 8.8792384e-01 9.4036628e-03 1.0154145e-01]]\n"
          ],
          "name": "stdout"
        }
      ]
    },
    {
      "metadata": {
        "id": "v13_oFps7toL",
        "colab_type": "code",
        "outputId": "95c0a775-c613-4cdd-97c9-36d16f6a2d95",
        "colab": {
          "base_uri": "https://localhost:8080/",
          "height": 139
        }
      },
      "cell_type": "code",
      "source": [
        "# CONVERTING THE PREDICTION MATRIX OF DECIMALS TO BINARY MATRIX\n",
        "for a in Predictions:\n",
        "  max_ = 0\n",
        "  for i in range(1,4):\n",
        "    if(a[max_]<a[i]):\n",
        "      max_ = i\n",
        "  for i in range(0,4):\n",
        "    if(max_ == i):\n",
        "      a[i] = int(1)\n",
        "    else:\n",
        "      a[i] = int(0)\n",
        "    \n",
        "print(Predictions)"
      ],
      "execution_count": 34,
      "outputs": [
        {
          "output_type": "stream",
          "text": [
            "[[1. 0. 0. 0.]\n",
            " [1. 0. 0. 0.]\n",
            " [1. 0. 0. 0.]\n",
            " ...\n",
            " [0. 0. 0. 1.]\n",
            " [0. 0. 0. 1.]\n",
            " [0. 1. 0. 0.]]\n"
          ],
          "name": "stdout"
        }
      ]
    },
    {
      "metadata": {
        "id": "wEdC58tomfTv",
        "colab_type": "code",
        "colab": {}
      },
      "cell_type": "code",
      "source": [
        "# BINRIZING INVERSE TO CLASSES\n",
        "Predictions = Binerizer.inverse_transform(Predictions)"
      ],
      "execution_count": 0,
      "outputs": []
    },
    {
      "metadata": {
        "id": "rW8KzWw3f2V8",
        "colab_type": "code",
        "colab": {}
      },
      "cell_type": "code",
      "source": [
        "#LIST OF STRING FROM INTEGER LIST\n",
        "predictions = [str(x[0]) for x in Predictions]"
      ],
      "execution_count": 0,
      "outputs": []
    },
    {
      "metadata": {
        "id": "FTSi_B8g8YWr",
        "colab_type": "code",
        "outputId": "b34160af-5df7-40f5-9690-70a52d6cf822",
        "colab": {
          "base_uri": "https://localhost:8080/",
          "height": 54
        }
      },
      "cell_type": "code",
      "source": [
        "#CHECK PREDICTIONS\n",
        "print(Predictions)"
      ],
      "execution_count": 37,
      "outputs": [
        {
          "output_type": "stream",
          "text": [
            "[(0,), (0,), (0,), (0,), (0,), (0,), (0,), (0,), (0,), (0,), (0,), (0,), (2,), (0,), (0,), (2,), (0,), (0,), (0,), (0,), (0,), (0,), (0,), (0,), (0,), (0,), (0,), (0,), (0,), (0,), (0,), (0,), (0,), (0,), (2,), (0,), (0,), (6,), (0,), (0,), (6,), (0,), (0,), (0,), (0,), (0,), (0,), (2,), (0,), (0,), (0,), (0,), (0,), (0,), (0,), (0,), (0,), (0,), (0,), (0,), (0,), (0,), (0,), (0,), (0,), (0,), (0,), (0,), (0,), (0,), (0,), (0,), (3,), (0,), (0,), (0,), (0,), (0,), (0,), (0,), (0,), (0,), (0,), (0,), (0,), (2,), (0,), (3,), (0,), (0,), (0,), (3,), (3,), (0,), (0,), (0,), (0,), (0,), (0,), (0,), (0,), (0,), (0,), (0,), (0,), (2,), (3,), (0,), (2,), (0,), (0,), (0,), (0,), (0,), (3,), (2,), (6,), (0,), (0,), (0,), (2,), (0,), (0,), (0,), (3,), (6,), (0,), (0,), (0,), (0,), (0,), (0,), (0,), (0,), (0,), (6,), (0,), (0,), (0,), (0,), (0,), (0,), (0,), (0,), (0,), (0,), (0,), (0,), (0,), (0,), (0,), (0,), (0,), (3,), (0,), (0,), (0,), (2,), (6,), (0,), (0,), (0,), (0,), (0,), (0,), (0,), (0,), (0,), (0,), (0,), (0,), (0,), (0,), (0,), (0,), (0,), (0,), (0,), (0,), (0,), (0,), (6,), (0,), (0,), (0,), (0,), (0,), (2,), (0,), (0,), (0,), (0,), (3,), (0,), (0,), (0,), (0,), (0,), (0,), (0,), (0,), (0,), (0,), (0,), (0,), (0,), (0,), (0,), (0,), (0,), (0,), (0,), (0,), (0,), (2,), (0,), (3,), (0,), (0,), (0,), (0,), (0,), (0,), (0,), (0,), (0,), (2,), (0,), (0,), (0,), (0,), (0,), (0,), (0,), (0,), (0,), (0,), (0,), (0,), (0,), (0,), (0,), (0,), (0,), (0,), (0,), (0,), (0,), (6,), (0,), (0,), (6,), (0,), (0,), (2,), (0,), (0,), (0,), (0,), (0,), (2,), (0,), (0,), (0,), (2,), (2,), (0,), (0,), (0,), (0,), (0,), (0,), (2,), (0,), (0,), (0,), (0,), (0,), (0,), (0,), (0,), (0,), (0,), (0,), (0,), (0,), (0,), (0,), (2,), (0,), (2,), (6,), (0,), (0,), (0,), (0,), (0,), (0,), (0,), (0,), (0,), (0,), (0,), (6,), (0,), (0,), (0,), (0,), (0,), (0,), (0,), (0,), (0,), (2,), (0,), (0,), (0,), (0,), (3,), (0,), (0,), (0,), (6,), (6,), (0,), (0,), (0,), (0,), (2,), (0,), (0,), (0,), (0,), (0,), (2,), (0,), (0,), (6,), (0,), (0,), (0,), (0,), (0,), (0,), (0,), (0,), (0,), (0,), (0,), (0,), (2,), (0,), (2,), (0,), (0,), (0,), (0,), (3,), (0,), (0,), (0,), (0,), (0,), (0,), (0,), (0,), (0,), (2,), (0,), (0,), (0,), (0,), (0,), (0,), (0,), (0,), (0,), (0,), (0,), (2,), (0,), (0,), (6,), (0,), (0,), (0,), (0,), (0,), (0,), (0,), (0,), (0,), (0,), (0,), (3,), (0,), (2,), (0,), (0,), (0,), (2,), (0,), (6,), (0,), (0,), (0,), (0,), (0,), (0,), (0,), (2,), (0,), (0,), (0,), (0,), (0,), (0,), (0,), (0,), (0,), (0,), (0,), (0,), (0,), (0,), (2,), (0,), (0,), (0,), (0,), (0,), (0,), (0,), (0,), (0,), (0,), (2,), (0,), (0,), (3,), (0,), (0,), (0,), (0,), (0,), (3,), (0,), (0,), (0,), (0,), (0,), (0,), (0,), (0,), (0,), (0,), (0,), (0,), (0,), (0,), (0,), (0,), (3,), (0,), (0,), (0,), (0,), (0,), (0,), (0,), (0,), (0,), (0,), (0,), (3,), (0,), (0,), (0,), (0,), (0,), (0,), (0,), (0,), (0,), (0,), (0,), (0,), (0,), (0,), (0,), (0,), (0,), (0,), (0,), (0,), (0,), (3,), (0,), (0,), (0,), (2,), (2,), (2,), (2,), (2,), (2,), (2,), (2,), (3,), (2,), (2,), (2,), (2,), (2,), (3,), (2,), (2,), (2,), (2,), (2,), (2,), (2,), (2,), (2,), (2,), (2,), (2,), (2,), (2,), (2,), (2,), (2,), (2,), (2,), (2,), (2,), (6,), (2,), (2,), (2,), (2,), (2,), (2,), (2,), (2,), (2,), (2,), (2,), (2,), (2,), (2,), (2,), (2,), (2,), (2,), (2,), (2,), (2,), (2,), (2,), (2,), (2,), (2,), (2,), (2,), (2,), (2,), (2,), (2,), (2,), (2,), (2,), (2,), (2,), (2,), (2,), (3,), (2,), (2,), (2,), (2,), (2,), (2,), (2,), (2,), (6,), (2,), (2,), (2,), (2,), (0,), (2,), (0,), (2,), (2,), (2,), (2,), (2,), (2,), (2,), (6,), (2,), (2,), (2,), (2,), (2,), (2,), (2,), (6,), (2,), (2,), (2,), (2,), (2,), (2,), (2,), (2,), (2,), (2,), (2,), (2,), (2,), (2,), (2,), (2,), (2,), (2,), (2,), (2,), (2,), (2,), (2,), (2,), (2,), (2,), (2,), (2,), (3,), (2,), (2,), (2,), (2,), (2,), (2,), (2,), (2,), (2,), (2,), (2,), (2,), (2,), (2,), (2,), (2,), (2,), (2,), (2,), (2,), (2,), (3,), (2,), (2,), (2,), (2,), (2,), (2,), (2,), (6,), (2,), (2,), (2,), (2,), (2,), (2,), (2,), (2,), (2,), (2,), (2,), (2,), (2,), (2,), (2,), (2,), (2,), (2,), (2,), (2,), (2,), (6,), (2,), (2,), (2,), (2,), (2,), (2,), (2,), (2,), (2,), (2,), (2,), (2,), (2,), (2,), (2,), (2,), (2,), (2,), (2,), (2,), (2,), (2,), (2,), (2,), (3,), (2,), (2,), (2,), (2,), (2,), (2,), (2,), (2,), (2,), (2,), (6,), (3,), (2,), (2,), (2,), (2,), (2,), (2,), (2,), (2,), (2,), (2,), (2,), (2,), (2,), (2,), (2,), (2,), (2,), (6,), (2,), (2,), (2,), (2,), (2,), (6,), (2,), (2,), (2,), (2,), (2,), (2,), (2,), (2,), (2,), (2,), (2,), (2,), (6,), (2,), (2,), (2,), (2,), (2,), (2,), (2,), (2,), (2,), (2,), (2,), (2,), (3,), (2,), (2,), (2,), (2,), (2,), (2,), (2,), (2,), (2,), (2,), (2,), (2,), (2,), (2,), (2,), (2,), (2,), (2,), (2,), (2,), (2,), (2,), (2,), (2,), (2,), (2,), (2,), (2,), (2,), (2,), (2,), (2,), (2,), (2,), (2,), (2,), (2,), (2,), (2,), (2,), (2,), (2,), (0,), (2,), (2,), (2,), (2,), (2,), (2,), (2,), (2,), (2,), (2,), (2,), (2,), (6,), (0,), (2,), (2,), (2,), (2,), (2,), (2,), (2,), (2,), (2,), (2,), (2,), (2,), (2,), (2,), (2,), (2,), (2,), (2,), (2,), (2,), (2,), (2,), (2,), (2,), (2,), (2,), (6,), (3,), (2,), (2,), (2,), (2,), (3,), (2,), (2,), (2,), (2,), (2,), (3,), (0,), (2,), (2,), (2,), (2,), (2,), (2,), (2,), (2,), (2,), (2,), (2,), (2,), (2,), (2,), (2,), (2,), (2,), (2,), (2,), (2,), (2,), (2,), (2,), (2,), (2,), (2,), (6,), (3,), (2,), (2,), (2,), (2,), (2,), (2,), (2,), (2,), (2,), (2,), (2,), (2,), (2,), (2,), (2,), (3,), (2,), (2,), (2,), (2,), (2,), (2,), (6,), (2,), (2,), (2,), (2,), (2,), (2,), (2,), (2,), (2,), (2,), (2,), (2,), (2,), (2,), (2,), (2,), (2,), (2,), (2,), (2,), (2,), (2,), (2,), (0,), (2,), (2,), (2,), (2,), (2,), (2,), (2,), (2,), (2,), (2,), (2,), (6,), (2,), (2,), (2,), (2,), (2,), (2,), (2,), (2,), (2,), (2,), (2,), (2,), (2,), (2,), (2,), (2,), (2,), (2,), (2,), (2,), (2,), (2,), (2,), (2,), (2,), (2,), (2,), (2,), (2,), (2,), (2,), (2,), (2,), (2,), (2,), (2,), (2,), (2,), (2,), (3,), (3,), (3,), (3,), (3,), (3,), (3,), (3,), (3,), (3,), (3,), (3,), (3,), (3,), (3,), (3,), (3,), (3,), (3,), (3,), (3,), (3,), (3,), (3,), (3,), (3,), (3,), (3,), (3,), (3,), (3,), (3,), (3,), (3,), (3,), (3,), (3,), (3,), (3,), (3,), (3,), (3,), (3,), (3,), (3,), (6,), (3,), (3,), (3,), (3,), (3,), (2,), (3,), (3,), (3,), (3,), (3,), (3,), (3,), (3,), (6,), (3,), (3,), (3,), (3,), (3,), (3,), (3,), (0,), (3,), (3,), (3,), (3,), (2,), (3,), (3,), (3,), (3,), (3,), (3,), (3,), (3,), (3,), (3,), (3,), (3,), (3,), (2,), (0,), (0,), (3,), (3,), (3,), (3,), (3,), (3,), (3,), (3,), (3,), (3,), (3,), (3,), (3,), (3,), (3,), (3,), (3,), (3,), (3,), (3,), (3,), (3,), (3,), (3,), (3,), (3,), (3,), (3,), (3,), (3,), (3,), (6,), (3,), (3,), (3,), (3,), (3,), (3,), (3,), (3,), (3,), (3,), (3,), (3,), (3,), (3,), (3,), (3,), (3,), (3,), (3,), (3,), (3,), (3,), (3,), (3,), (3,), (3,), (3,), (3,), (3,), (3,), (3,), (3,), (3,), (3,), (3,), (3,), (6,), (2,), (3,), (3,), (3,), (3,), (3,), (3,), (3,), (3,), (3,), (3,), (3,), (3,), (3,), (0,), (3,), (3,), (3,), (6,), (3,), (3,), (3,), (3,), (3,), (3,), (3,), (0,), (3,), (3,), (3,), (3,), (3,), (3,), (3,), (3,), (3,), (3,), (3,), (3,), (3,), (3,), (3,), (3,), (3,), (3,), (3,), (3,), (3,), (3,), (3,), (3,), (3,), (3,), (3,), (3,), (3,), (3,), (3,), (3,), (3,), (3,), (3,), (3,), (3,), (3,), (3,), (3,), (3,), (3,), (3,), (3,), (3,), (3,), (3,), (3,), (3,), (3,), (3,), (3,), (3,), (3,), (3,), (3,), (3,), (3,), (3,), (3,), (3,), (3,), (3,), (3,), (3,), (3,), (3,), (3,), (3,), (3,), (3,), (3,), (3,), (3,), (3,), (3,), (3,), (2,), (3,), (3,), (3,), (3,), (3,), (0,), (3,), (3,), (3,), (3,), (3,), (3,), (3,), (3,), (3,), (3,), (2,), (2,), (3,), (3,), (3,), (3,), (3,), (3,), (3,), (3,), (3,), (2,), (2,), (3,), (3,), (3,), (3,), (3,), (3,), (2,), (3,), (3,), (3,), (3,), (3,), (3,), (3,), (3,), (3,), (3,), (3,), (3,), (3,), (3,), (3,), (3,), (3,), (0,), (3,), (2,), (3,), (3,), (3,), (3,), (3,), (3,), (3,), (2,), (0,), (3,), (3,), (3,), (3,), (3,), (3,), (3,), (3,), (3,), (3,), (3,), (0,), (3,), (2,), (3,), (3,), (3,), (3,), (3,), (3,), (3,), (3,), (3,), (3,), (3,), (3,), (3,), (3,), (3,), (3,), (3,), (3,), (3,), (3,), (3,), (2,), (3,), (3,), (3,), (3,), (3,), (3,), (3,), (0,), (3,), (3,), (0,), (3,), (3,), (3,), (3,), (3,), (3,), (3,), (3,), (3,), (3,), (3,), (3,), (3,), (3,), (3,), (3,), (3,), (2,), (3,), (3,), (0,), (3,), (3,), (3,), (3,), (2,), (3,), (3,), (3,), (3,), (6,), (3,), (3,), (3,), (3,), (3,), (3,), (3,), (3,), (3,), (3,), (3,), (3,), (3,), (3,), (3,), (3,), (3,), (3,), (3,), (3,), (3,), (3,), (3,), (3,), (3,), (3,), (3,), (3,), (3,), (3,), (3,), (3,), (3,), (3,), (0,), (3,), (3,), (3,), (3,), (0,), (3,), (3,), (3,), (3,), (3,), (3,), (3,), (3,), (3,), (6,), (3,), (3,), (3,), (3,), (3,), (3,), (3,), (3,), (3,), (3,), (3,), (3,), (3,), (3,), (3,), (3,), (3,), (3,), (3,), (3,), (3,), (3,), (3,), (3,), (0,), (3,), (3,), (3,), (3,), (3,), (2,), (3,), (3,), (3,), (3,), (3,), (3,), (3,), (3,), (3,), (3,), (0,), (3,), (2,), (6,), (6,), (0,), (2,), (6,), (2,), (6,), (6,), (6,), (6,), (6,), (3,), (0,), (2,), (6,), (2,), (6,), (2,), (2,), (6,), (0,), (6,), (0,), (2,), (6,), (6,), (6,), (6,), (2,), (6,), (6,), (2,), (0,), (6,), (2,), (2,), (6,), (6,), (3,), (0,), (2,), (6,), (6,), (2,), (2,), (0,), (6,), (6,), (6,), (6,), (6,), (0,), (0,), (0,), (0,), (0,), (0,), (2,), (0,), (0,), (0,), (0,), (2,), (6,), (6,), (6,), (6,), (6,), (3,), (6,), (2,), (2,), (6,), (6,), (6,), (2,), (6,), (6,), (2,), (2,), (0,), (2,), (6,), (6,), (6,), (2,), (2,), (6,), (2,), (6,), (6,), (0,), (3,), (0,), (6,), (6,), (2,), (6,), (6,), (6,), (6,), (6,), (6,), (0,), (2,), (6,), (6,), (2,), (6,), (2,), (0,), (0,), (6,), (6,), (0,), (6,), (2,), (6,), (6,), (6,), (6,), (0,), (2,), (0,), (0,), (0,), (6,), (6,), (6,), (3,), (0,), (2,), (6,), (6,), (6,), (6,), (6,), (6,), (6,), (0,), (6,), (6,), (0,), (2,), (6,), (2,), (6,), (2,), (6,), (2,), (6,), (2,), (6,), (6,), (2,), (6,), (6,), (0,), (2,), (0,), (6,), (2,), (6,), (2,), (6,), (6,), (0,), (6,), (6,), (6,), (6,), (6,), (6,), (6,), (6,), (2,), (2,), (0,), (6,), (0,), (6,), (6,), (0,), (6,), (6,), (6,), (6,), (6,), (6,), (6,), (0,), (6,), (0,), (0,), (6,), (6,), (0,), (0,), (2,), (2,), (2,), (6,), (2,), (0,), (6,), (6,), (2,), (6,), (2,), (6,), (0,), (0,), (0,), (2,), (6,), (0,), (0,), (6,), (0,), (6,), (3,), (0,), (2,), (2,), (6,), (2,), (2,), (0,), (6,), (0,), (2,), (0,), (0,), (6,), (0,), (2,), (6,), (0,), (2,), (0,), (2,), (6,), (6,), (0,), (0,), (0,), (2,), (6,), (2,), (6,), (6,), (3,), (6,), (6,), (2,), (2,), (6,), (6,), (6,), (6,), (6,), (0,), (6,), (2,), (2,), (6,), (2,), (3,), (6,), (6,), (6,), (0,), (0,), (0,), (2,), (0,), (2,), (2,), (6,), (2,), (6,), (2,), (6,), (6,), (6,), (6,), (2,), (6,), (0,), (2,), (2,), (6,), (2,), (2,), (0,), (6,), (6,), (0,), (6,), (3,), (0,), (0,), (6,), (2,), (6,), (6,), (6,), (6,), (6,), (6,), (2,), (2,), (2,), (0,), (6,), (2,), (6,), (2,), (0,), (0,), (0,), (6,), (2,), (0,), (0,), (3,), (2,), (3,), (2,), (6,), (6,), (6,), (2,), (2,), (0,), (6,), (3,), (6,), (0,), (0,), (2,), (0,), (0,), (6,), (6,), (2,), (2,), (6,), (0,), (0,), (6,), (6,), (6,), (6,), (2,), (0,), (0,), (6,), (3,), (2,), (6,), (2,), (6,), (6,), (6,), (6,), (2,), (6,), (2,), (6,), (6,), (0,), (0,), (6,), (2,), (2,), (6,), (3,), (6,), (2,), (6,), (0,), (6,), (6,), (2,), (6,), (6,), (3,), (6,), (6,), (6,), (0,), (6,), (6,), (2,), (6,), (2,), (0,), (0,), (6,), (0,), (0,), (2,), (0,), (6,), (6,), (0,), (0,), (0,), (6,), (6,), (0,), (6,), (6,), (0,), (6,), (6,), (6,), (2,), (0,), (0,), (2,), (6,), (2,), (2,), (2,), (0,), (2,), (6,), (6,), (2,), (2,), (2,), (6,), (0,), (0,), (6,), (2,), (6,), (3,), (6,), (6,), (2,), (6,), (3,), (6,), (2,), (2,), (6,), (6,), (6,), (0,), (6,), (2,), (6,), (0,), (6,), (3,), (0,), (0,), (3,), (6,), (2,), (6,), (0,), (6,), (6,), (2,), (6,), (0,), (0,), (6,), (0,), (0,), (0,), (6,), (0,), (2,), (6,), (6,), (2,), (6,), (6,), (3,), (6,), (2,), (0,), (2,), (6,), (6,), (0,), (6,), (2,), (3,), (6,), (6,), (6,), (6,), (2,)]\n"
          ],
          "name": "stdout"
        }
      ]
    },
    {
      "metadata": {
        "id": "0-eoU1hz8-0v",
        "colab_type": "code",
        "colab": {}
      },
      "cell_type": "code",
      "source": [
        "# UPDATING THE PREDICTIONS TO CSV FILE \n",
        "with open('/content/gdrive/My Drive/Rajat_Singhal.csv',\"w\") as file:\n",
        "    file.write(\"image_index\"+\",\"+\"class\")\n",
        "    file.write(\"\\n\")\n",
        "    for i in range(len(Predictions)):\n",
        "        file.write(str(i)+\",\"+str(Predictions[i]))\n",
        "        file.write(\"\\n\")"
      ],
      "execution_count": 0,
      "outputs": []
    },
    {
      "metadata": {
        "id": "pp2FMGGU_ZOZ",
        "colab_type": "text"
      },
      "cell_type": "markdown",
      "source": [
        "Thank you to IIIT Delhi for this golden opportunity\n",
        "Calculated accuracy over train set is 86.64%\n"
      ]
    },
    {
      "metadata": {
        "id": "6lwhyMd1LwhL",
        "colab_type": "code",
        "colab": {}
      },
      "cell_type": "code",
      "source": [
        ""
      ],
      "execution_count": 0,
      "outputs": []
    }
  ]
}